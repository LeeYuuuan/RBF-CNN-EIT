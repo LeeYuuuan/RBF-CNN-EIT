{
  "nbformat": 4,
  "nbformat_minor": 0,
  "metadata": {
    "colab": {
      "provenance": [],
      "collapsed_sections": [
        "5jAfyjH0gUif",
        "-M-UdzOKgcxV",
        "4AJchLlODgJl",
        "MkVfOzqlg3iF",
        "rAGcXHFiisP-"
      ],
      "mount_file_id": "1B_L3jt3CFwUoZM3pnWCmkGNnDVPIU6NZ",
      "authorship_tag": "ABX9TyNR095H0zpZtWwHediFAkX5",
      "include_colab_link": true
    },
    "kernelspec": {
      "name": "python3",
      "display_name": "Python 3"
    },
    "language_info": {
      "name": "python"
    },
    "accelerator": "GPU",
    "gpuClass": "standard"
  },
  "cells": [
    {
      "cell_type": "markdown",
      "metadata": {
        "id": "view-in-github",
        "colab_type": "text"
      },
      "source": [
        "<a href=\"https://colab.research.google.com/github/LeeYuuuan/RBF-CNN-EIT/blob/main/CNN_v1.ipynb\" target=\"_parent\"><img src=\"https://colab.research.google.com/assets/colab-badge.svg\" alt=\"Open In Colab\"/></a>"
      ]
    },
    {
      "cell_type": "markdown",
      "source": [
        "# import package"
      ],
      "metadata": {
        "id": "FAiPvHdlgPLk"
      }
    },
    {
      "cell_type": "code",
      "source": [
        "pip install torchsummary\n"
      ],
      "metadata": {
        "colab": {
          "base_uri": "https://localhost:8080/"
        },
        "id": "06QIMnovzYZF",
        "outputId": "50ed5b5c-d047-4857-bb7b-08d2b77fafca"
      },
      "execution_count": null,
      "outputs": [
        {
          "output_type": "stream",
          "name": "stdout",
          "text": [
            "Looking in indexes: https://pypi.org/simple, https://us-python.pkg.dev/colab-wheels/public/simple/\n",
            "Requirement already satisfied: torchsummary in /usr/local/lib/python3.8/dist-packages (1.5.1)\n"
          ]
        }
      ]
    },
    {
      "cell_type": "code",
      "execution_count": null,
      "metadata": {
        "id": "Rjgi6uPVlnPG"
      },
      "outputs": [],
      "source": [
        "from scipy import io\n",
        "import torch\n",
        "from torch.utils.data import TensorDataset,DataLoader,Dataset\n",
        "from torch.autograd import Variable \n",
        "import torch.nn as nn\n",
        "import matplotlib.pyplot as plt\n",
        "import numpy as np\n",
        "from sklearn.model_selection import train_test_split\n",
        "import torchsummary\n",
        "import time\n",
        "import sys\n",
        "sys.path.append(r\"/content/drive/MyDrive/Colab Notebooks/EIT/EITDeepLearning\")\n",
        "sys.path.append(r\"/content/drive/MyDrive/Colab Notebooks/EIT/EITDeepLearning/data\")\n",
        "import torch_rbf as rbf"
      ]
    },
    {
      "cell_type": "markdown",
      "source": [
        "# Create Custom Dataset "
      ],
      "metadata": {
        "id": "5jAfyjH0gUif"
      }
    },
    {
      "cell_type": "code",
      "source": [
        "class CustomEITDataSet(Dataset):\n",
        "    \"\"\"EIT simulation dataset\"\"\"\n",
        "    def __init__(self, dataset_type):\n",
        "        \"\"\"\n",
        "        Args:\n",
        "            root_dfir: Directory with all the data.\n",
        "        \"\"\"  \n",
        "\n",
        "        dic_path = \"/content/drive/MyDrive/Colab Notebooks/EIT/EITDeepLearning/data/\"\n",
        "        \n",
        "        # load the .csv simulation data \n",
        "        # voltage_data = np.loadtxt(dic_path + 'datacsv1.csv', delimiter=';', dtype=np.float32)\n",
        "        # label = np.loadtxt(dic_path + 'datacsv.csv', delimiter=';', dtype=np.float32)\n",
        "        print(f\"Loading {dataset_type}\")\n",
        "        print(\"Loading voltages...\")\n",
        "\n",
        "        \n",
        "        time_0 = time.time()\n",
        "        voltage_data = np.loadtxt(dic_path + 'data04.csv', delimiter=',', dtype=np.float32)\n",
        "        time_1 = time.time() - time_0\n",
        "        print(f\"using {time_1}s.\")\n",
        "        print(\"Loading labels...\")\n",
        "        label = np.loadtxt(dic_path + 'data04R.csv', delimiter=',', dtype=np.float32)\n",
        "        time_2 = time.time() - time_0\n",
        "        print(f\"Using {time_2}s.\")\n",
        "  \n",
        "        # split train/test dataset\n",
        "        print(\"Creating the dataset...\")\n",
        "        X_train_raw, X_test_raw, y_train, y_test = train_test_split(voltage_data, label, test_size=0.2, random_state=42)\n",
        "\n",
        "        X_train = np.zeros([X_train_raw.shape[0], 1, 16, 12]) # shape: count * 1 * 16(angle) * 12(voltage)\n",
        "        X_test = np.zeros([X_test_raw.shape[0], 1, 16, 12])\n",
        "\n",
        "        for i, data_element in enumerate(X_train_raw):\n",
        "            X_train[i, 0, :, :] = X_train_raw[i].reshape(16, 12)\n",
        "        for i, data_element in enumerate(X_test_raw):\n",
        "            X_test[i, 0, :, :] = X_test_raw[i].reshape(16,12)\n",
        "\n",
        "        # return different type of data\n",
        "        if dataset_type == 'train':\n",
        "            self.x = X_train\n",
        "            self.y = y_train\n",
        "            self.len = X_train.shape[0]\n",
        "            time_3 = time.time() - time_0\n",
        "            print(f\"Finished loading train set! Using{time_3}s.\")\n",
        "        elif dataset_type == 'test':\n",
        "            self.x = X_test\n",
        "            self.y = y_test\n",
        "            self.len = X_test.shape[0]\n",
        "            time_4 = time.time() - time_0\n",
        "            print(f\"Finished loading test set! Using{time_4}s.\")\n",
        "        else:\n",
        "            raise ValueError\n",
        "\n",
        "    def __getitem__(self, index):\n",
        "        return self.x[index], self.y[index]\n",
        "\n",
        "    def __len__(self):\n",
        "        return self.len"
      ],
      "metadata": {
        "id": "PGGE0nzM3RUv"
      },
      "execution_count": null,
      "outputs": []
    },
    {
      "cell_type": "markdown",
      "source": [
        "# Create CNN model"
      ],
      "metadata": {
        "id": "-M-UdzOKgcxV"
      }
    },
    {
      "cell_type": "code",
      "source": [
        "class CNNnet(torch.nn.Module):\n",
        "    def __init__(self, layer_widths, layer_centres, basis_func):\n",
        "        super(CNNnet,self).__init__()\n",
        "        self.rbf_layers = nn.ModuleList()\n",
        "        self.linear_layers = nn.ModuleList()\n",
        "        self.conv1_1 = nn.Sequential(\n",
        "            # (1, 16, 12)pytorch输入不用定义大小，因为参数过多写成nn.Conv2d(1,64,3,1，1)形式容易出错，有的参数默认了\n",
        "            nn.Conv2d(\n",
        "                in_channels=1,#单通道\n",
        "                out_channels=64,#64通道\n",
        "                kernel_size=3,  # 卷积filter, 移动块长\n",
        "                stride=1,  # filter的每次移动步长\n",
        "                padding=1#零填充\n",
        "            ),\n",
        "            torch.nn.BatchNorm2d(64),#批量归一化\n",
        "            nn.ELU(),#ELU激活函数\n",
        "        )\n",
        "        self.conv1_2 = nn.Sequential(\n",
        "            torch.nn.Conv2d(\n",
        "                in_channels=64,\n",
        "                out_channels=64,\n",
        "                kernel_size=3,  # 卷积filter, 移动块长\n",
        "                stride=1,  # filter的每次移动步长\n",
        "                padding=1\n",
        "            ),\n",
        "            torch.nn.BatchNorm2d(64),\n",
        "            nn.ELU(),\n",
        "            nn.MaxPool2d(kernel_size=2)#最大池化层，核大小为2\n",
        "        )\n",
        "        self.conv2_1 = nn.Sequential(\n",
        "            # (1, 28, 28)\n",
        "            nn.Conv2d(\n",
        "                in_channels=64,\n",
        "                out_channels=128,\n",
        "                kernel_size=3,  # 卷积filter, 移动块长\n",
        "                stride=1,  # filter的每次移动步长\n",
        "                padding=1\n",
        "            ),\n",
        "            torch.nn.BatchNorm2d(128),\n",
        "            nn.ELU(),\n",
        "        )\n",
        "        self.conv2_2 = nn.Sequential(\n",
        "            torch.nn.Conv2d(\n",
        "                in_channels=128,\n",
        "                out_channels=128,\n",
        "                kernel_size=3,  # 卷积filter, 移动块长\n",
        "                stride=1,  # filter的每次移动步长\n",
        "                padding=1\n",
        "            ),\n",
        "            torch.nn.BatchNorm2d(128),\n",
        "            nn.ELU(),\n",
        "            nn.MaxPool2d(kernel_size=2)\n",
        "        )\n",
        "        self.conv3_1 = nn.Sequential(\n",
        "            # (1, 28, 28)\n",
        "            nn.Conv2d(\n",
        "                in_channels=128,\n",
        "                out_channels=256,\n",
        "                kernel_size=3,  # 卷积filter, 移动块长\n",
        "                stride=1,  # filter的每次移动步长\n",
        "                padding=1\n",
        "            ),\n",
        "            torch.nn.BatchNorm2d(256),\n",
        "            nn.ELU(),\n",
        "        )\n",
        "        self.conv3_2 = nn.Sequential(\n",
        "            # (1, 28, 28)\n",
        "            nn.Conv2d(\n",
        "                in_channels=256,\n",
        "                out_channels=256,\n",
        "                kernel_size=3,  \n",
        "                stride=1,  \n",
        "                padding=1\n",
        "            ),\n",
        "            torch.nn.BatchNorm2d(256),\n",
        "            nn.ELU(),\n",
        "        )\n",
        "        self.conv3_3 = nn.Sequential(\n",
        "            # (1, 28, 28)\n",
        "            nn.Conv2d(\n",
        "                in_channels=256,\n",
        "                out_channels=256,\n",
        "                kernel_size=3,  # 卷积filter, 移动块长\n",
        "                stride=1,  # filter的每次移动步长\n",
        "                padding=1\n",
        "            ),\n",
        "            torch.nn.BatchNorm2d(256),\n",
        "            nn.ELU(),\n",
        "        )\n",
        "        self.conv3_4 = nn.Sequential(\n",
        "            torch.nn.Conv2d(\n",
        "                in_channels=256,\n",
        "                out_channels=256,\n",
        "                kernel_size=3,  # 卷积filter, 移动块长\n",
        "                stride=1,  # filter的每次移动步长\n",
        "                padding=1\n",
        "            ),\n",
        "            torch.nn.BatchNorm2d(256),\n",
        "            nn.ELU(),\n",
        "            nn.MaxPool2d(kernel_size=2)\n",
        "        )\n",
        "        self.conv4_1 = nn.Sequential(\n",
        "            # (1, 28, 28)\n",
        "            nn.Conv2d(\n",
        "                in_channels=256,\n",
        "                out_channels=512,\n",
        "                kernel_size=3,  # 卷积filter, 移动块长\n",
        "                stride=1,  # filter的每次移动步长\n",
        "                padding=1\n",
        "            ),\n",
        "            torch.nn.BatchNorm2d(512),\n",
        "            nn.ELU(),\n",
        "        )\n",
        "        self.conv4_2 = nn.Sequential(\n",
        "            # (1, 28, 28)\n",
        "            nn.Conv2d(\n",
        "                in_channels=512,\n",
        "                out_channels=512,\n",
        "                kernel_size=3,  # 卷积filter, 移动块长\n",
        "                stride=1,  # filter的每次移动步长\n",
        "                padding=1\n",
        "            ),\n",
        "            torch.nn.BatchNorm2d(512),\n",
        "            nn.ELU(),\n",
        "        )\n",
        "        self.conv4_3 = nn.Sequential(\n",
        "            # (1, 28, 28)\n",
        "            nn.Conv2d(\n",
        "                in_channels=512,\n",
        "                out_channels=512,\n",
        "                kernel_size=3,  # 卷积filter, 移动块长\n",
        "                stride=1,  # filter的每次移动步长\n",
        "                padding=1\n",
        "            ),\n",
        "            torch.nn.BatchNorm2d(512),\n",
        "            nn.ELU(),\n",
        "        )\n",
        "        self.conv4_4 = nn.Sequential(\n",
        "            torch.nn.Conv2d(\n",
        "                in_channels=512,\n",
        "                out_channels=512,\n",
        "                kernel_size=3,  # 卷积filter, 移动块长\n",
        "                stride=1,  # filter的每次移动步长\n",
        "                padding=1\n",
        "            ),\n",
        "            torch.nn.BatchNorm2d(512),\n",
        "            nn.ELU(),\n",
        "            nn.AvgPool2d(kernel_size=2,ceil_mode=True)#平均池化层，核大小为2，2×1经过这层变成1×0，报错，但有ceil_mode=True为向上取整，变成1×1\n",
        "        )\n",
        "        for i in range(len(layer_widths) - 1):\n",
        "            self.rbf_layers.append(rbf.RBF(layer_widths[i], layer_centres[i], basis_func))\n",
        "            self.linear_layers.append(nn.Linear(layer_centres[i], layer_widths[i + 1]))\n",
        "        self.mlp2 = torch.nn.Linear(512,576) #输出层，512是输入这层的大小，576是输出的大小\n",
        "    '''\n",
        "    前向传播\n",
        "    '''\n",
        "    def forward(self, x):\n",
        "        x = self.conv1_1(x)\n",
        "        x = self.conv1_2(x)\n",
        "        x = self.conv2_1(x)\n",
        "        x = self.conv2_2(x)\n",
        "        x = self.conv3_1(x)\n",
        "        x = self.conv3_2(x)\n",
        "        x = self.conv3_3(x)\n",
        "        x = self.conv3_4(x)\n",
        "        x = self.conv4_1(x)\n",
        "        x = self.conv4_2(x)\n",
        "        x = self.conv4_3(x)\n",
        "        x = self.conv4_4(x)\n",
        "        \n",
        "        x = x.view(x.size(0),-1)#四维数据（数据量，通道，纵向，横向），展开为二维（数据量，只有横向）\n",
        "        \n",
        "        for i in range(len(self.rbf_layers)):\n",
        "            x = self.rbf_layers[i](x)\n",
        "            x = self.linear_layers[i](x)\n",
        "        x = self.mlp2(x)\n",
        "        return x"
      ],
      "metadata": {
        "id": "IlhgVrtC4V1w"
      },
      "execution_count": null,
      "outputs": []
    },
    {
      "cell_type": "markdown",
      "source": [
        "# just CNN"
      ],
      "metadata": {
        "id": "4AJchLlODgJl"
      }
    },
    {
      "cell_type": "code",
      "source": [
        "class CNNJustnet(torch.nn.Module):\n",
        "    def __init__(self, layer_widths, layer_centres, basis_func):\n",
        "        super(CNNJustnet,self).__init__()\n",
        "        self.rbf_layers = nn.ModuleList()\n",
        "        self.linear_layers = nn.ModuleList()\n",
        "        self.conv1_1 = nn.Sequential(\n",
        "            # (1, 16, 12)pytorch输入不用定义大小，因为参数过多写成nn.Conv2d(1,64,3,1，1)形式容易出错，有的参数默认了\n",
        "            nn.Conv2d(\n",
        "                in_channels=1,#单通道\n",
        "                out_channels=64,#64通道\n",
        "                kernel_size=3,  # 卷积filter, 移动块长\n",
        "                stride=1,  # filter的每次移动步长\n",
        "                padding=1#零填充\n",
        "            ),\n",
        "            torch.nn.BatchNorm2d(64),#批量归一化\n",
        "            nn.ELU(),#ELU激活函数\n",
        "        )\n",
        "        self.conv1_2 = nn.Sequential(\n",
        "            torch.nn.Conv2d(\n",
        "                in_channels=64,\n",
        "                out_channels=64,\n",
        "                kernel_size=3,  # 卷积filter, 移动块长\n",
        "                stride=1,  # filter的每次移动步长\n",
        "                padding=1\n",
        "            ),\n",
        "            torch.nn.BatchNorm2d(64),\n",
        "            nn.ELU(),\n",
        "            nn.MaxPool2d(kernel_size=2)#最大池化层，核大小为2\n",
        "        )\n",
        "        self.conv2_1 = nn.Sequential(\n",
        "            # (1, 28, 28)\n",
        "            nn.Conv2d(\n",
        "                in_channels=64,\n",
        "                out_channels=128,\n",
        "                kernel_size=3,  # 卷积filter, 移动块长\n",
        "                stride=1,  # filter的每次移动步长\n",
        "                padding=1\n",
        "            ),\n",
        "            torch.nn.BatchNorm2d(128),\n",
        "            nn.ELU(),\n",
        "        )\n",
        "        self.conv2_2 = nn.Sequential(\n",
        "            torch.nn.Conv2d(\n",
        "                in_channels=128,\n",
        "                out_channels=128,\n",
        "                kernel_size=3,  # 卷积filter, 移动块长\n",
        "                stride=1,  # filter的每次移动步长\n",
        "                padding=1\n",
        "            ),\n",
        "            torch.nn.BatchNorm2d(128),\n",
        "            nn.ELU(),\n",
        "            nn.MaxPool2d(kernel_size=2)\n",
        "        )\n",
        "        self.conv3_1 = nn.Sequential(\n",
        "            # (1, 28, 28)\n",
        "            nn.Conv2d(\n",
        "                in_channels=128,\n",
        "                out_channels=256,\n",
        "                kernel_size=3,  # 卷积filter, 移动块长\n",
        "                stride=1,  # filter的每次移动步长\n",
        "                padding=1\n",
        "            ),\n",
        "            torch.nn.BatchNorm2d(256),\n",
        "            nn.ELU(),\n",
        "        )\n",
        "        self.conv3_2 = nn.Sequential(\n",
        "            # (1, 28, 28)\n",
        "            nn.Conv2d(\n",
        "                in_channels=256,\n",
        "                out_channels=256,\n",
        "                kernel_size=3,  \n",
        "                stride=1,  \n",
        "                padding=1\n",
        "            ),\n",
        "            torch.nn.BatchNorm2d(256),\n",
        "            nn.ELU(),\n",
        "        )\n",
        "        self.conv3_3 = nn.Sequential(\n",
        "            # (1, 28, 28)\n",
        "            nn.Conv2d(\n",
        "                in_channels=256,\n",
        "                out_channels=256,\n",
        "                kernel_size=3,  # 卷积filter, 移动块长\n",
        "                stride=1,  # filter的每次移动步长\n",
        "                padding=1\n",
        "            ),\n",
        "            torch.nn.BatchNorm2d(256),\n",
        "            nn.ELU(),\n",
        "        )\n",
        "        self.conv3_4 = nn.Sequential(\n",
        "            torch.nn.Conv2d(\n",
        "                in_channels=256,\n",
        "                out_channels=256,\n",
        "                kernel_size=3,  # 卷积filter, 移动块长\n",
        "                stride=1,  # filter的每次移动步长\n",
        "                padding=1\n",
        "            ),\n",
        "            torch.nn.BatchNorm2d(256),\n",
        "            nn.ELU(),\n",
        "            nn.MaxPool2d(kernel_size=2)\n",
        "        )\n",
        "        self.conv4_1 = nn.Sequential(\n",
        "            # (1, 28, 28)\n",
        "            nn.Conv2d(\n",
        "                in_channels=256,\n",
        "                out_channels=512,\n",
        "                kernel_size=3,  # 卷积filter, 移动块长\n",
        "                stride=1,  # filter的每次移动步长\n",
        "                padding=1\n",
        "            ),\n",
        "            torch.nn.BatchNorm2d(512),\n",
        "            nn.ELU(),\n",
        "        )\n",
        "        self.conv4_2 = nn.Sequential(\n",
        "            # (1, 28, 28)\n",
        "            nn.Conv2d(\n",
        "                in_channels=512,\n",
        "                out_channels=512,\n",
        "                kernel_size=3,  # 卷积filter, 移动块长\n",
        "                stride=1,  # filter的每次移动步长\n",
        "                padding=1\n",
        "            ),\n",
        "            torch.nn.BatchNorm2d(512),\n",
        "            nn.ELU(),\n",
        "        )\n",
        "        self.conv4_3 = nn.Sequential(\n",
        "            # (1, 28, 28)\n",
        "            nn.Conv2d(\n",
        "                in_channels=512,\n",
        "                out_channels=512,\n",
        "                kernel_size=3,  # 卷积filter, 移动块长\n",
        "                stride=1,  # filter的每次移动步长\n",
        "                padding=1\n",
        "            ),\n",
        "            torch.nn.BatchNorm2d(512),\n",
        "            nn.ELU(),\n",
        "        )\n",
        "        self.conv4_4 = nn.Sequential(\n",
        "            torch.nn.Conv2d(\n",
        "                in_channels=512,\n",
        "                out_channels=512,\n",
        "                kernel_size=3,  # 卷积filter, 移动块长\n",
        "                stride=1,  # filter的每次移动步长\n",
        "                padding=1\n",
        "            ),\n",
        "            torch.nn.BatchNorm2d(512),\n",
        "            nn.ELU(),\n",
        "            nn.AvgPool2d(kernel_size=2,ceil_mode=True)#平均池化层，核大小为2，2×1经过这层变成1×0，报错，但有ceil_mode=True为向上取整，变成1×1\n",
        "        )\n",
        "        self.mlp2 = torch.nn.Linear(512,576) #输出层，512是输入这层的大小，576是输出的大小\n",
        "    '''\n",
        "    前向传播\n",
        "    '''\n",
        "    def forward(self, x):\n",
        "        x = self.conv1_1(x)\n",
        "        x = self.conv1_2(x)\n",
        "        x = self.conv2_1(x)\n",
        "        x = self.conv2_2(x)\n",
        "        x = self.conv3_1(x)\n",
        "        x = self.conv3_2(x)\n",
        "        x = self.conv3_3(x)\n",
        "        x = self.conv3_4(x)\n",
        "        x = self.conv4_1(x)\n",
        "        x = self.conv4_2(x)\n",
        "        x = self.conv4_3(x)\n",
        "        x = self.conv4_4(x)\n",
        "        \n",
        "        x = x.view(x.size(0),-1)#四维数据（数据量，通道，纵向，横向），展开为二维（数据量，只有横向）\n",
        "        \n",
        "        x = self.mlp2(x)\n",
        "        return x"
      ],
      "metadata": {
        "id": "2Wcn3LMCDfMu"
      },
      "execution_count": null,
      "outputs": []
    },
    {
      "cell_type": "code",
      "source": [
        "model = "
      ],
      "metadata": {
        "id": "Ft5e1RtrDr8Q"
      },
      "execution_count": null,
      "outputs": []
    },
    {
      "cell_type": "markdown",
      "source": [
        "# Load Data"
      ],
      "metadata": {
        "id": "yTYHJ4slgv98"
      }
    },
    {
      "cell_type": "code",
      "source": [
        "# Load dataset.\n",
        "dataset_train = CustomEITDataSet('train')\n",
        "train_loader = DataLoader(dataset=dataset_train, batch_size=32, shuffle=True)\n",
        "\n",
        "dataset_test = CustomEITDataSet('test')  \n",
        "test_loader = DataLoader(dataset=dataset_test, batch_size=32, shuffle=True)"
      ],
      "metadata": {
        "colab": {
          "base_uri": "https://localhost:8080/"
        },
        "id": "8TuvKzc0JG0Y",
        "outputId": "09ba36c3-dc1a-4c1d-910e-b43f9e66b439"
      },
      "execution_count": null,
      "outputs": [
        {
          "output_type": "stream",
          "name": "stdout",
          "text": [
            "Loading train\n",
            "Loading voltages...\n",
            "using 4.199032783508301s.\n",
            "Loading labels...\n",
            "Using 12.576471328735352s.\n",
            "Creating the dataset...\n",
            "Finished loading train set! Using12.973464488983154s.\n",
            "Loading test\n",
            "Loading voltages...\n",
            "using 3.0633552074432373s.\n",
            "Loading labels...\n",
            "Using 10.438817739486694s.\n",
            "Creating the dataset...\n",
            "Finished loading test set! Using10.528818845748901s.\n"
          ]
        }
      ]
    },
    {
      "cell_type": "markdown",
      "source": [
        "# Training model"
      ],
      "metadata": {
        "id": "9WiAmX_Zg-cO"
      }
    },
    {
      "cell_type": "markdown",
      "source": [
        "## Set parameters"
      ],
      "metadata": {
        "id": "qVqwNQADhcpj"
      }
    },
    {
      "cell_type": "code",
      "source": [
        "layer_widths = [512] # 神经元数量\n",
        "layer_centres = [40]\n",
        "basis_func = rbf.gaussian # 初始偏置\n",
        "learning_rt = 0.05\n",
        "model = CNNnet(layer_widths, layer_centres, basis_func) # Model initialized\n",
        "# print(model)\n",
        "model = model.float() # parameters to float.\n",
        "device = torch.device('cuda:0')\n",
        "model.to(device) # 训练数据和模型数据类型要统一，并且pytorch-gpu数据类型要变成指定类型\n",
        "\n",
        "loss_func = torch.nn.MSELoss() # loss function: MSE\n",
        "opt = torch.optim.SGD(model.parameters(), lr=learning_rt, momentum=0.9) # gradient descent with momentum\n",
        "# opt = torch.optim.Adam(model.parameters(), lr=learning_rt)\n",
        "opt_type = \"SDG\"\n",
        "\n",
        "'''\n",
        "下面矩阵存放训练过程中损失函数等数据\n",
        "'''\n"
      ],
      "metadata": {
        "colab": {
          "base_uri": "https://localhost:8080/",
          "height": 35
        },
        "id": "wt5UXK7tg9FT",
        "outputId": "ebe34923-1ff3-47c6-c47a-3121bfc23514"
      },
      "execution_count": null,
      "outputs": [
        {
          "output_type": "execute_result",
          "data": {
            "text/plain": [
              "'\\n下面矩阵存放训练过程中损失函数等数据\\n'"
            ],
            "application/vnd.google.colaboratory.intrinsic+json": {
              "type": "string"
            }
          },
          "metadata": {},
          "execution_count": 95
        }
      ]
    },
    {
      "cell_type": "code",
      "source": [
        "#cpu版本\n",
        "layer_widths = [512] # 神经元数量\n",
        "layer_centres = [40]\n",
        "basis_func = rbf.gaussian # 初始偏置\n",
        "learning_rt = 0.05\n",
        "model = CNNnet(layer_widths, layer_centres, basis_func) # Model initialized\n",
        "# print(model)\n",
        "model = model.float() # parameters to float.\n",
        "device = torch.device('cpu')\n",
        "model.to(device) # 训练数据和模型数据类型要统一，并且pytorch-gpu数据类型要变成指定类型\n",
        "\n",
        "loss_func = torch.nn.MSELoss() # loss function: MSE\n",
        "opt = torch.optim.SGD(model.parameters(), lr=learning_rt, momentum=0.9) # gradient descent with momentum\n",
        "# opt = torch.optim.Adam(model.parameters(), lr=learning_rt)\n",
        "opt_type = \"SDG\""
      ],
      "metadata": {
        "id": "17ySilKVKy-q"
      },
      "execution_count": null,
      "outputs": []
    },
    {
      "cell_type": "markdown",
      "source": [
        "## Train Model"
      ],
      "metadata": {
        "id": "xbOH7bQAhgIM"
      }
    },
    {
      "cell_type": "markdown",
      "source": [
        "## for test\n"
      ],
      "metadata": {
        "id": "_6L8Q-ILohwc"
      }
    },
    {
      "cell_type": "code",
      "source": [
        "np.average([1,2,2,2,2])"
      ],
      "metadata": {
        "colab": {
          "base_uri": "https://localhost:8080/"
        },
        "id": "isudsqAeolR6",
        "outputId": "21bc430e-a748-4f77-93b7-f38b918e17b7"
      },
      "execution_count": null,
      "outputs": [
        {
          "output_type": "execute_result",
          "data": {
            "text/plain": [
              "1.8"
            ]
          },
          "metadata": {},
          "execution_count": 32
        }
      ]
    },
    {
      "cell_type": "markdown",
      "source": [
        "## org\n"
      ],
      "metadata": {
        "id": "Wq462Gg8okHL"
      }
    },
    {
      "cell_type": "code",
      "source": [
        "loss_count = []\n",
        "train_iter_loss = []\n",
        "test_iter_loss = []\n",
        "epochs=100 #轮数\n",
        "for epoch in range(epochs):\n",
        "    batch_loss = []\n",
        "    test_loss = []\n",
        "    for i, (x, y)in enumerate(train_loader):\n",
        "      \n",
        "        batch_x = Variable(x).to(torch.float32) # torch.Size([, 1, 16, 12])\n",
        "        batch_x = batch_x.cuda()\n",
        "        batch_y = Variable(y).to(torch.float32) # torch.Size([576])\n",
        "        batch_y = batch_y.cuda()\n",
        "        out = model(batch_x)        # 获取最后输出\n",
        "        loss = loss_func(out, batch_y)        # 获取损失\n",
        "        batch_loss.append(loss.cuda().data.cpu().numpy())    # 使用优化器优化损失\n",
        "        opt.zero_grad()  # 清空上一步残余更新参数值\n",
        "        loss.backward() # 误差反向传播，计算参数更新值\n",
        "        opt.step() # 将参数更新值施加到net的parmeters上\n",
        "    \n",
        "        '''\n",
        "        每20个数据显示一次训练集均方误差\n",
        "        '''\n",
        "        \"\"\"\n",
        "        if i%20 == 0:\n",
        "            loss_count.append(loss)\n",
        "            print('train MSE {}:\\t'.format(i), loss.item())\n",
        "            # torch.save(model, '/content/drive/MyDrive/Colab Notebooks/EIT/EITDeepLearning/model')\n",
        "        \"\"\"\n",
        "    train_iter_loss.append(np.average(np.array(batch_loss)))\n",
        "    for a,b in test_loader:\n",
        "        \n",
        "        test_x = Variable(a).to(torch.float32)\n",
        "        test_x = test_x.cuda()\n",
        "        test_y = Variable(b).to(torch.float32)\n",
        "        test_y = test_y.cuda()\n",
        "        out = model(test_x)\n",
        "        loss = loss_func(out, test_y)\n",
        "        test_loss.append(loss.cuda().data.cpu().numpy())\n",
        "        '''\n",
        "        每轮示一次测试集均方误差\n",
        "        '''\n",
        "        # print('test MSE {}:\\t'.format(epoch+1), loss.item())\n",
        "    test_iter_loss.append(np.average(np.array(test_loss)))\n",
        "    print('test MSE {}:\\t'.format(epoch+1), test_iter_loss[epoch],end='')\n",
        "    print('train MSE {}:\\t'.format(epoch+1), train_iter_loss[epoch])\n",
        "    \n",
        "\n",
        "'''\n",
        "绘制测试集 轮数与均方误差图像\n",
        "'''\n",
        "x = np.arange(epochs)\n",
        "y = np.array(test_iter_loss) / 32\n",
        "plt.plot(x, y)\n",
        "\n",
        "plt.title('pic')\n",
        "plt.xlabel('epoch')\n",
        "plt.ylabel('loss')\n",
        "plt.savefig(f'/content/drive/MyDrive/Colab Notebooks/EIT/EITDeepLearning/lossfg/test_loss_{learning_rt}_{opt_type}.png',dpi=600, bbox_inches='tight')\n",
        "plt.show()\n",
        "\n",
        "torch.save(model, f'/content/drive/MyDrive/Colab Notebooks/EIT/EITDeepLearning/model/model_{learning_rt}_{opt_type}.pth')\n",
        "\n",
        "np.save(f'/content/drive/MyDrive/Colab Notebooks/EIT/EITDeepLearning/loss/train_iter_loss_{learning_rt}_{opt_type}.npy', np.array(train_iter_loss) / 32)\n",
        "np.save(f'/content/drive/MyDrive/Colab Notebooks/EIT/EITDeepLearning/loss/test_iter_loss_{learning_rt}_{opt_type}.npy', np.array(test_iter_loss) / 32)\n",
        "# np.save(f'/content/drive/MyDrive/Colab Notebooks/EIT/EITDeepLearning/loss/test_loss_{learning_rt}_{opt_type}.npy', test_loss)\n"
      ],
      "metadata": {
        "id": "s2fqMSejhjF0"
      },
      "execution_count": null,
      "outputs": []
    },
    {
      "cell_type": "markdown",
      "source": [
        "## cpu\n"
      ],
      "metadata": {
        "id": "eZfveANHcJBn"
      }
    },
    {
      "cell_type": "code",
      "source": [
        "loss_count = []\n",
        "train_iter_loss = []\n",
        "test_iter_loss = []\n",
        "epochs=100 #轮数\n",
        "for epoch in range(epochs):\n",
        "    batch_loss = []\n",
        "    test_loss = []\n",
        "    for i, (x, y)in enumerate(train_loader):\n",
        "      \n",
        "        batch_x = Variable(x).to(torch.float32) # torch.Size([, 1, 16, 12])\n",
        "\n",
        "        batch_y = Variable(y).to(torch.float32) # torch.Size([576])\n",
        "\n",
        "        out = model(batch_x)        # 获取最后输出\n",
        "        loss = loss_func(out, batch_y)        # 获取损失\n",
        "        batch_loss.append(loss.data.cpu().numpy())    # 使用优化器优化损失\n",
        "        opt.zero_grad()  # 清空上一步残余更新参数值\n",
        "        loss.backward() # 误差反向传播，计算参数更新值\n",
        "        opt.step() # 将参数更新值施加到net的parmeters上\n",
        "    \n",
        "        '''\n",
        "        每20个数据显示一次训练集均方误差\n",
        "        '''\n",
        "        \"\"\"\n",
        "        if i%20 == 0:\n",
        "            loss_count.append(loss)\n",
        "            print('train MSE {}:\\t'.format(i), loss.item())\n",
        "            # torch.save(model, '/content/drive/MyDrive/Colab Notebooks/EIT/EITDeepLearning/model')\n",
        "        \"\"\"\n",
        "    train_iter_loss.append(np.average(np.array(batch_loss)))\n",
        "    for a,b in test_loader:\n",
        "        \n",
        "        test_x = Variable(a).to(torch.float32)\n",
        "        test_x = test_x\n",
        "        test_y = Variable(b).to(torch.float32)\n",
        "        test_y = test_y\n",
        "        out = model(test_x)\n",
        "        loss = loss_func(out, test_y)\n",
        "        test_loss.append(loss.data.cpu().numpy())\n",
        "        '''\n",
        "        每轮示一次测试集均方误差\n",
        "        '''\n",
        "        # print('test MSE {}:\\t'.format(epoch+1), loss.item())\n",
        "    test_iter_loss.append(np.average(np.array(test_loss)))\n",
        "    print('test MSE {}:\\t'.format(epoch+1), test_iter_loss[epoch],end='')\n",
        "    print('train MSE {}:\\t'.format(epoch+1), train_iter_loss[epoch])\n",
        "    \n",
        "\n",
        "'''\n",
        "绘制测试集 轮数与均方误差图像\n",
        "'''\n",
        "x = np.arange(epochs)\n",
        "y = np.array(test_iter_loss) / 32\n",
        "plt.plot(x, y)\n",
        "\n",
        "plt.title('pic')\n",
        "plt.xlabel('epoch')\n",
        "plt.ylabel('loss')\n",
        "plt.savefig(f'/content/drive/MyDrive/Colab Notebooks/EIT/EITDeepLearning/lossfg/test_loss_{learning_rt}_{opt_type}.png',dpi=600, bbox_inches='tight')\n",
        "plt.show()\n",
        "\n",
        "torch.save(model, f'/content/drive/MyDrive/Colab Notebooks/EIT/EITDeepLearning/model/model_{learning_rt}_{opt_type}.pth')\n",
        "\n",
        "np.save(f'/content/drive/MyDrive/Colab Notebooks/EIT/EITDeepLearning/loss/train_iter_loss_{learning_rt}_{opt_type}.npy', np.array(train_iter_loss) / 32)\n",
        "np.save(f'/content/drive/MyDrive/Colab Notebooks/EIT/EITDeepLearning/loss/test_iter_loss_{learning_rt}_{opt_type}.npy', np.array(test_iter_loss) / 32)\n",
        "# np.save(f'/content/drive/MyDrive/Colab Notebooks/EIT/EITDeepLearning/loss/test_loss_{learning_rt}_{opt_type}.npy', test_loss)\n"
      ],
      "metadata": {
        "colab": {
          "base_uri": "https://localhost:8080/",
          "height": 482
        },
        "id": "BKp2Iq3UcJzR",
        "outputId": "f234a691-b6db-46ec-f00b-3b6571a7bc64"
      },
      "execution_count": null,
      "outputs": [
        {
          "output_type": "stream",
          "name": "stdout",
          "text": [
            "test MSE 1:\t 0.0020176354train MSE 1:\t 0.0035697094\n",
            "test MSE 2:\t 0.0020177944train MSE 2:\t 0.0020083021\n",
            "test MSE 3:\t 0.0020114095train MSE 3:\t 0.0020064125\n"
          ]
        },
        {
          "output_type": "error",
          "ename": "KeyboardInterrupt",
          "evalue": "ignored",
          "traceback": [
            "\u001b[0;31m---------------------------------------------------------------------------\u001b[0m",
            "\u001b[0;31mKeyboardInterrupt\u001b[0m                         Traceback (most recent call last)",
            "\u001b[0;32m<ipython-input-81-d5d41e764d73>\u001b[0m in \u001b[0;36m<module>\u001b[0;34m\u001b[0m\n\u001b[1;32m     16\u001b[0m         \u001b[0mbatch_loss\u001b[0m\u001b[0;34m.\u001b[0m\u001b[0mappend\u001b[0m\u001b[0;34m(\u001b[0m\u001b[0mloss\u001b[0m\u001b[0;34m.\u001b[0m\u001b[0mdata\u001b[0m\u001b[0;34m.\u001b[0m\u001b[0mcpu\u001b[0m\u001b[0;34m(\u001b[0m\u001b[0;34m)\u001b[0m\u001b[0;34m.\u001b[0m\u001b[0mnumpy\u001b[0m\u001b[0;34m(\u001b[0m\u001b[0;34m)\u001b[0m\u001b[0;34m)\u001b[0m    \u001b[0;31m# 使用优化器优化损失\u001b[0m\u001b[0;34m\u001b[0m\u001b[0;34m\u001b[0m\u001b[0m\n\u001b[1;32m     17\u001b[0m         \u001b[0mopt\u001b[0m\u001b[0;34m.\u001b[0m\u001b[0mzero_grad\u001b[0m\u001b[0;34m(\u001b[0m\u001b[0;34m)\u001b[0m  \u001b[0;31m# 清空上一步残余更新参数值\u001b[0m\u001b[0;34m\u001b[0m\u001b[0;34m\u001b[0m\u001b[0m\n\u001b[0;32m---> 18\u001b[0;31m         \u001b[0mloss\u001b[0m\u001b[0;34m.\u001b[0m\u001b[0mbackward\u001b[0m\u001b[0;34m(\u001b[0m\u001b[0;34m)\u001b[0m \u001b[0;31m# 误差反向传播，计算参数更新值\u001b[0m\u001b[0;34m\u001b[0m\u001b[0;34m\u001b[0m\u001b[0m\n\u001b[0m\u001b[1;32m     19\u001b[0m         \u001b[0mopt\u001b[0m\u001b[0;34m.\u001b[0m\u001b[0mstep\u001b[0m\u001b[0;34m(\u001b[0m\u001b[0;34m)\u001b[0m \u001b[0;31m# 将参数更新值施加到net的parmeters上\u001b[0m\u001b[0;34m\u001b[0m\u001b[0;34m\u001b[0m\u001b[0m\n\u001b[1;32m     20\u001b[0m \u001b[0;34m\u001b[0m\u001b[0m\n",
            "\u001b[0;32m/usr/local/lib/python3.8/dist-packages/torch/_tensor.py\u001b[0m in \u001b[0;36mbackward\u001b[0;34m(self, gradient, retain_graph, create_graph, inputs)\u001b[0m\n\u001b[1;32m    486\u001b[0m                 \u001b[0minputs\u001b[0m\u001b[0;34m=\u001b[0m\u001b[0minputs\u001b[0m\u001b[0;34m,\u001b[0m\u001b[0;34m\u001b[0m\u001b[0;34m\u001b[0m\u001b[0m\n\u001b[1;32m    487\u001b[0m             )\n\u001b[0;32m--> 488\u001b[0;31m         torch.autograd.backward(\n\u001b[0m\u001b[1;32m    489\u001b[0m             \u001b[0mself\u001b[0m\u001b[0;34m,\u001b[0m \u001b[0mgradient\u001b[0m\u001b[0;34m,\u001b[0m \u001b[0mretain_graph\u001b[0m\u001b[0;34m,\u001b[0m \u001b[0mcreate_graph\u001b[0m\u001b[0;34m,\u001b[0m \u001b[0minputs\u001b[0m\u001b[0;34m=\u001b[0m\u001b[0minputs\u001b[0m\u001b[0;34m\u001b[0m\u001b[0;34m\u001b[0m\u001b[0m\n\u001b[1;32m    490\u001b[0m         )\n",
            "\u001b[0;32m/usr/local/lib/python3.8/dist-packages/torch/autograd/__init__.py\u001b[0m in \u001b[0;36mbackward\u001b[0;34m(tensors, grad_tensors, retain_graph, create_graph, grad_variables, inputs)\u001b[0m\n\u001b[1;32m    195\u001b[0m     \u001b[0;31m# some Python versions print out the first line of a multi-line function\u001b[0m\u001b[0;34m\u001b[0m\u001b[0;34m\u001b[0m\u001b[0;34m\u001b[0m\u001b[0m\n\u001b[1;32m    196\u001b[0m     \u001b[0;31m# calls in the traceback and some print out the last line\u001b[0m\u001b[0;34m\u001b[0m\u001b[0;34m\u001b[0m\u001b[0;34m\u001b[0m\u001b[0m\n\u001b[0;32m--> 197\u001b[0;31m     Variable._execution_engine.run_backward(  # Calls into the C++ engine to run the backward pass\n\u001b[0m\u001b[1;32m    198\u001b[0m         \u001b[0mtensors\u001b[0m\u001b[0;34m,\u001b[0m \u001b[0mgrad_tensors_\u001b[0m\u001b[0;34m,\u001b[0m \u001b[0mretain_graph\u001b[0m\u001b[0;34m,\u001b[0m \u001b[0mcreate_graph\u001b[0m\u001b[0;34m,\u001b[0m \u001b[0minputs\u001b[0m\u001b[0;34m,\u001b[0m\u001b[0;34m\u001b[0m\u001b[0;34m\u001b[0m\u001b[0m\n\u001b[1;32m    199\u001b[0m         allow_unreachable=True, accumulate_grad=True)  # Calls into the C++ engine to run the backward pass\n",
            "\u001b[0;31mKeyboardInterrupt\u001b[0m: "
          ]
        }
      ]
    },
    {
      "cell_type": "code",
      "source": [
        "x = np.arange(epochs)\n",
        "y = np.array(test_iter_loss) / 32\n",
        "plt.plot(x, y)\n",
        "plt.title('pic')\n",
        "plt.xlabel('epoch')\n",
        "plt.ylabel('loss')\n",
        "plt.savefig(f'/content/drive/MyDrive/Colab Notebooks/EIT/EITDeepLearning/lossfg/test_loss_{learning_rt}_{opt_type}.png',dpi=600, bbox_inches='tight')\n",
        "plt.show()\n",
        "np.save(f'/content/drive/MyDrive/Colab Notebooks/EIT/EITDeepLearning/loss/train_iter_loss_{learning_rt}_{opt_type}.npy', np.array(train_iter_loss) / 32)\n",
        "np.save(f'/content/drive/MyDrive/Colab Notebooks/EIT/EITDeepLearning/loss/test_iter_loss_{learning_rt}_{opt_type}.npy', np.array(test_iter_loss) / 32)\n",
        "# np.save(f'/content/drive/MyDrive/Colab Notebooks/EIT/EITDeepLearning/loss/test_loss_{learning_rt}_{opt_type}.npy', test_loss)\n",
        "\n"
      ],
      "metadata": {
        "colab": {
          "base_uri": "https://localhost:8080/",
          "height": 295
        },
        "id": "a4k1QqLmt39k",
        "outputId": "dc9977c2-cc84-4925-d65b-b5fd04380737"
      },
      "execution_count": null,
      "outputs": [
        {
          "output_type": "display_data",
          "data": {
            "text/plain": [
              "<Figure size 432x288 with 1 Axes>"
            ],
            "image/png": "[encoded data removed]"
          },
          "metadata": {
            "needs_background": "light"
          }
        }
      ]
    },
    {
      "cell_type": "markdown",
      "source": [
        "# Load model"
      ],
      "metadata": {
        "id": "NajNRX0Zg84e"
      }
    },
    {
      "cell_type": "markdown",
      "source": [
        "## Adam model."
      ],
      "metadata": {
        "id": "mjOj2pRoh5i-"
      }
    },
    {
      "cell_type": "markdown",
      "source": [
        "### lr = 0.0005"
      ],
      "metadata": {
        "id": "55QyTNDOh_Y9"
      }
    },
    {
      "cell_type": "code",
      "source": [
        "model = torch.load('/content/drive/MyDrive/Colab Notebooks/EIT/EITDeepLearning/model/model_0.0005_Adam.pth', map_location=torch.device('cpu'))"
      ],
      "metadata": {
        "id": "eO9sby-sg951"
      },
      "execution_count": null,
      "outputs": []
    },
    {
      "cell_type": "markdown",
      "source": [
        "### lr = 0.001"
      ],
      "metadata": {
        "id": "yKHEmpQViCrH"
      }
    },
    {
      "cell_type": "code",
      "source": [
        "model = torch.load('/content/drive/MyDrive/Colab Notebooks/EIT/EITDeepLearning/model/model_0.001_Adam.pth',  map_location=torch.device('cpu'))"
      ],
      "metadata": {
        "id": "FzVNz4USiL5j"
      },
      "execution_count": null,
      "outputs": []
    },
    {
      "cell_type": "markdown",
      "source": [
        "### lr = 0.0001"
      ],
      "metadata": {
        "id": "njxaqP6m9vpx"
      }
    },
    {
      "cell_type": "code",
      "source": [
        "model = torch.load('/content/drive/MyDrive/Colab Notebooks/EIT/EITDeepLearning/model/model_0.0001_Adam.pth', map_location=torch.device('cpu'))"
      ],
      "metadata": {
        "id": "zJHBl4krrbb4"
      },
      "execution_count": null,
      "outputs": []
    },
    {
      "cell_type": "markdown",
      "source": [
        "## SDG model"
      ],
      "metadata": {
        "id": "Z-5jZ7p9iS7c"
      }
    },
    {
      "cell_type": "markdown",
      "source": [
        "### lr = 0.01"
      ],
      "metadata": {
        "id": "Rx5qT9QIiS1M"
      }
    },
    {
      "cell_type": "code",
      "source": [
        "model = torch.load('/content/drive/MyDrive/Colab Notebooks/EIT/EITDeepLearning/model/model_0.01_SDG.pth', map_location=torch.device('cpu'))"
      ],
      "metadata": {
        "id": "1frTmHsIia2e"
      },
      "execution_count": null,
      "outputs": []
    },
    {
      "cell_type": "code",
      "source": [
        "model = torch.load('/content/drive/MyDrive/Colab Notebooks/EIT/EITDeepLearning/model/model_0.001_SDG.pth', map_location=torch.device('cpu'))"
      ],
      "metadata": {
        "id": "cMsNKfOPtLli"
      },
      "execution_count": null,
      "outputs": []
    },
    {
      "cell_type": "markdown",
      "source": [
        "### 0.0001"
      ],
      "metadata": {
        "id": "GpGl39VyDYia"
      }
    },
    {
      "cell_type": "code",
      "source": [
        "model = torch.load('/content/drive/MyDrive/Colab Notebooks/EIT/EITDeepLearning/model/model_0.0001_SDG.pth', map_location=torch.device('cpu'))"
      ],
      "metadata": {
        "id": "GX5c4TCLtk4D"
      },
      "execution_count": null,
      "outputs": []
    },
    {
      "cell_type": "markdown",
      "source": [
        "## lr = 0.1"
      ],
      "metadata": {
        "id": "6XJG8UmkiZFL"
      }
    },
    {
      "cell_type": "code",
      "source": [
        "model = torch.load('/content/drive/MyDrive/Colab Notebooks/EIT/EITDeepLearning/model/model_0.1_SDG.pth')"
      ],
      "metadata": {
        "id": "yDOmtpisibi-"
      },
      "execution_count": null,
      "outputs": []
    },
    {
      "cell_type": "markdown",
      "source": [
        "## CNNJust"
      ],
      "metadata": {
        "id": "AhSSmZMFjEBS"
      }
    },
    {
      "cell_type": "markdown",
      "source": [
        "### lr = "
      ],
      "metadata": {
        "id": "2ulANPQIjGFS"
      }
    },
    {
      "cell_type": "code",
      "source": [
        "model = torch.load('/content/drive/MyDrive/Colab Notebooks/EIT/EITDeepLearning/model/model_0.0005_Adam_JUST.pth', map_location=torch.device('cpu'))"
      ],
      "metadata": {
        "id": "SZeEBzmcjKH2"
      },
      "execution_count": null,
      "outputs": []
    },
    {
      "cell_type": "code",
      "source": [
        "model = torch.load('/content/drive/MyDrive/Colab Notebooks/EIT/EITDeepLearning/model/model_0.001_SDG_JUST.pth', map_location=torch.device('cpu'))"
      ],
      "metadata": {
        "id": "0AeBMovouY1f"
      },
      "execution_count": null,
      "outputs": []
    },
    {
      "cell_type": "markdown",
      "source": [
        "# Forward for getting elements R."
      ],
      "metadata": {
        "id": "UgBCP99-i7Xw"
      }
    },
    {
      "cell_type": "code",
      "source": [
        "# pre batch\n",
        "dataiter = iter(test_loader)\n",
        "vol, re_batch = next(dataiter)\n",
        "pre = model.forward(Variable(vol).to(torch.float32))\n",
        "re.shape\n",
        "# (pre[0].cpu() - re[0])"
      ],
      "metadata": {
        "colab": {
          "base_uri": "https://localhost:8080/"
        },
        "id": "AS4dl1AojBdp",
        "outputId": "7028afc4-b27e-4ee9-ce2e-6a98765be1b2"
      },
      "execution_count": null,
      "outputs": [
        {
          "output_type": "execute_result",
          "data": {
            "text/plain": [
              "torch.Size([32, 576])"
            ]
          },
          "metadata": {},
          "execution_count": 36
        }
      ]
    },
    {
      "cell_type": "code",
      "source": [
        "pre_batch = model.forward(Variable(vol).to(torch.float32))\n",
        "re = re_batch[0:4].numpy()\n",
        "pre = pre_batch[0:4].detach().numpy()"
      ],
      "metadata": {
        "id": "yrzh_w1eNr1U"
      },
      "execution_count": null,
      "outputs": []
    },
    {
      "cell_type": "code",
      "source": [
        "learning_rt = 0.001\n",
        "opt_type = \"Adam\"\n",
        "# save all for a certain time\n",
        "for i in range(len(re)):\n",
        "    np.save(f'/content/drive/MyDrive/Colab Notebooks/EIT/EITDeepLearning/pre_r_and_r/npy/pre_{learning_rt}_{opt_type}_00{i}.npy', pre[i])\n",
        "    np.save(f'/content/drive/MyDrive/Colab Notebooks/EIT/EITDeepLearning/pre_r_and_r/npy/re_{learning_rt}_{opt_type}_00{i}.npy', re[i])\n",
        "    mat_pre = np.load(f'/content/drive/MyDrive/Colab Notebooks/EIT/EITDeepLearning/pre_r_and_r/npy/pre_{learning_rt}_{opt_type}_00{i}.npy')\n",
        "    io.savemat(f'/content/drive/MyDrive/Colab Notebooks/EIT/EITDeepLearning/pre_r_and_r/mat/pre_{learning_rt}_{opt_type}_00{i}.mat',{'mat_pre':mat_pre})\n",
        "\n",
        "    mat_re = np.load(f'/content/drive/MyDrive/Colab Notebooks/EIT/EITDeepLearning/pre_r_and_r/npy/re_{learning_rt}_{opt_type}_00{i}.npy')\n",
        "    io.savemat(f'/content/drive/MyDrive/Colab Notebooks/EIT/EITDeepLearning/pre_r_and_r/mat/re_{learning_rt}_{opt_type}_00{i}.mat', {'mat_re':mat_re})\n"
      ],
      "metadata": {
        "id": "dKNFKNeGOCgU"
      },
      "execution_count": null,
      "outputs": []
    },
    {
      "cell_type": "code",
      "source": [
        "# save example!\n",
        "np.save(f'/content/drive/MyDrive/Colab Notebooks/EIT/EITDeepLearning/testexample/pre.npy', pre)\n",
        "np.save(f'/content/drive/MyDrive/Colab Notebooks/EIT/EITDeepLearning/testexample/re', re)"
      ],
      "metadata": {
        "id": "d0O0PHOnh-fd"
      },
      "execution_count": null,
      "outputs": []
    },
    {
      "cell_type": "markdown",
      "source": [
        "### 批处理"
      ],
      "metadata": {
        "id": "lTYxO4w9OHce"
      }
    },
    {
      "cell_type": "code",
      "source": [
        "v_bond_list = []\n",
        "con_list = []\n",
        "count = 0\n",
        "for v_bond, con in test_loader:\n",
        "    v_bond_list.append(v_bond)\n",
        "    con_list.append(con[0])\n",
        "    count += 1\n",
        "    if count >= 4:\n",
        "        break;\n",
        "    "
      ],
      "metadata": {
        "id": "jD3OR3Wl-CrX"
      },
      "execution_count": null,
      "outputs": []
    },
    {
      "cell_type": "code",
      "source": [
        "v_bond_list[0].shape"
      ],
      "metadata": {
        "colab": {
          "base_uri": "https://localhost:8080/"
        },
        "id": "VMDbn9vb_Yu0",
        "outputId": "75bc81bf-087f-49d5-cdff-cd6f88b7bb51"
      },
      "execution_count": null,
      "outputs": [
        {
          "output_type": "execute_result",
          "data": {
            "text/plain": [
              "torch.Size([32, 1, 16, 12])"
            ]
          },
          "metadata": {},
          "execution_count": 31
        }
      ]
    },
    {
      "cell_type": "code",
      "source": [
        "#cpu\n",
        "pre = []\n",
        "re = []\n",
        "for i in range(len(v_bond_list)):\n",
        "    pre_batch = model.forward(Variable(v_bond).to(torch.float32))\n",
        "    pre.append(pre_batch[0].cpu().detach().numpy())\n",
        "    re.append(con_list[i].numpy())"
      ],
      "metadata": {
        "id": "nZKNiRM3LUQd"
      },
      "execution_count": null,
      "outputs": []
    },
    {
      "cell_type": "code",
      "source": [],
      "metadata": {
        "colab": {
          "base_uri": "https://localhost:8080/"
        },
        "id": "rYY9tA5YLZgL",
        "outputId": "69f03862-30c2-4b86-baa3-53770baa78fc"
      },
      "execution_count": null,
      "outputs": [
        {
          "output_type": "execute_result",
          "data": {
            "text/plain": [
              "4"
            ]
          },
          "metadata": {},
          "execution_count": 26
        }
      ]
    },
    {
      "cell_type": "code",
      "source": [
        "# pre all same for same R\n",
        "pre = []\n",
        "re = []\n",
        "for i in range(len(v_bond_list)):\n",
        "    pre_batch = model.forward(Variable(v_bond).to(torch.float32).cuda())\n",
        "    pre.append(pre_batch[0].cpu().detach().numpy())\n",
        "    re.append(con_list[i][0].numpy())\n"
      ],
      "metadata": {
        "id": "XSRMfdJA_cE8"
      },
      "execution_count": null,
      "outputs": []
    },
    {
      "cell_type": "code",
      "source": [],
      "metadata": {
        "colab": {
          "base_uri": "https://localhost:8080/"
        },
        "id": "9dB5ouHH_8GH",
        "outputId": "0d37e3b1-47f1-4343-c04d-cbec1cf8613b"
      },
      "execution_count": null,
      "outputs": [
        {
          "output_type": "execute_result",
          "data": {
            "text/plain": [
              "576"
            ]
          },
          "metadata": {},
          "execution_count": 91
        }
      ]
    },
    {
      "cell_type": "markdown",
      "source": [
        "#### no used"
      ],
      "metadata": {
        "id": "DoQKFU5WARYk"
      }
    },
    {
      "cell_type": "code",
      "source": [
        "# pre all\n",
        "pre = []\n",
        "re = []\n",
        "count = 0\n",
        "for v_bond, con in test_loader:\n",
        "    pre_batch = model.forward(Variable(v_bond).to(torch.float32).cuda())\n",
        "    pre.append(pre_batch[0].cpu().detach().numpy())\n",
        "    re.append(con[0].numpy())\n",
        "    count += 1\n",
        "    if count >= 4:\n",
        "        break\n",
        "print(count)"
      ],
      "metadata": {
        "colab": {
          "base_uri": "https://localhost:8080/"
        },
        "id": "KxMNFhJIjiQC",
        "outputId": "a543afb3-1ac9-4d61-b765-6e91184dc340"
      },
      "execution_count": null,
      "outputs": [
        {
          "output_type": "stream",
          "name": "stdout",
          "text": [
            "4\n"
          ]
        }
      ]
    },
    {
      "cell_type": "markdown",
      "source": [
        "### save"
      ],
      "metadata": {
        "id": "Esc3kz3hATpW"
      }
    },
    {
      "cell_type": "code",
      "source": [
        "# save all for a certain time\n",
        "for i in range(len(re)):\n",
        "    np.save(f'/content/drive/MyDrive/Colab Notebooks/EIT/EITDeepLearning/pre_r_and_r/npy/pre_{learning_rt}_{opt_type}_00{i}.npy', pre[i])\n",
        "    np.save(f'/content/drive/MyDrive/Colab Notebooks/EIT/EITDeepLearning/pre_r_and_r/npy/re_{learning_rt}_{opt_type}_00{i}.npy', re[i])\n",
        "    mat_pre = np.load(f'/content/drive/MyDrive/Colab Notebooks/EIT/EITDeepLearning/pre_r_and_r/npy/pre_{learning_rt}_{opt_type}_00{i}.npy')\n",
        "    io.savemat(f'/content/drive/MyDrive/Colab Notebooks/EIT/EITDeepLearning/pre_r_and_r/mat/pre_{learning_rt}_{opt_type}_00{i}.mat',{'mat_pre':mat_pre})\n",
        "\n",
        "    mat_re = np.load(f'/content/drive/MyDrive/Colab Notebooks/EIT/EITDeepLearning/pre_r_and_r/npy/re_{learning_rt}_{opt_type}_00{i}.npy')\n",
        "    io.savemat(f'/content/drive/MyDrive/Colab Notebooks/EIT/EITDeepLearning/pre_r_and_r/mat/re_{learning_rt}_{opt_type}_00{i}.mat', {'mat_re':mat_re})\n"
      ],
      "metadata": {
        "id": "OkaK4XFelrtA"
      },
      "execution_count": null,
      "outputs": []
    },
    {
      "cell_type": "code",
      "source": [
        "output_re = re[10000].numpy()\n",
        "output_pre = pre[10000].cpu().detach().numpy()"
      ],
      "metadata": {
        "id": "9J3jC8lTjx9j"
      },
      "execution_count": null,
      "outputs": []
    },
    {
      "cell_type": "code",
      "source": [],
      "metadata": {
        "colab": {
          "base_uri": "https://localhost:8080/"
        },
        "id": "85WAa6OErP-8",
        "outputId": "286455a0-4d2d-4541-abf6-615fd6c8aeee"
      },
      "execution_count": null,
      "outputs": [
        {
          "output_type": "execute_result",
          "data": {
            "text/plain": [
              "torch.Size([32, 576])"
            ]
          },
          "metadata": {},
          "execution_count": 33
        }
      ]
    },
    {
      "cell_type": "code",
      "source": [
        "output_pre"
      ],
      "metadata": {
        "id": "-s4jAXz5pvhS"
      },
      "execution_count": null,
      "outputs": []
    },
    {
      "cell_type": "code",
      "source": [
        "i = 1\n",
        "np.save(f'/content/drive/MyDrive/Colab Notebooks/EIT/EITDeepLearning/pre_r_and_r/npy/pre_{learning_rt}_{opt_type}_00{i}.npy', output_pre)\n",
        "np.save(f'/content/drive/MyDrive/Colab Notebooks/EIT/EITDeepLearning/pre_r_and_r/npy/re_{learning_rt}_{opt_type}_00{i}.npy', output_re)\n"
      ],
      "metadata": {
        "id": "895dHILuk3u2"
      },
      "execution_count": null,
      "outputs": []
    },
    {
      "cell_type": "code",
      "source": [
        "mat_pre = np.load(f'/content/drive/MyDrive/Colab Notebooks/EIT/EITDeepLearning/pre_r_and_r/npy/pre_{learning_rt}_{opt_type}_00{i}.npy')\n",
        "io.savemat(f'/content/drive/MyDrive/Colab Notebooks/EIT/EITDeepLearning/pre_r_and_r/mat/pre_{learning_rt}_{opt_type}_00{i}.mat',{'mat_pre':mat_pre})\n",
        "\n",
        "mat_re = np.load(f'/content/drive/MyDrive/Colab Notebooks/EIT/EITDeepLearning/pre_r_and_r/npy/re_{learning_rt}_{opt_type}_00{i}.npy')\n",
        "io.savemat(f'/content/drive/MyDrive/Colab Notebooks/EIT/EITDeepLearning/pre_r_and_r/mat/re_{learning_rt}_{opt_type}_00{i}.mat', {'mat_re':mat_re})"
      ],
      "metadata": {
        "id": "mIUvgsKwmo87"
      },
      "execution_count": null,
      "outputs": []
    },
    {
      "cell_type": "code",
      "source": [
        "torch.save(re, 're.pt')\n",
        "torch.save(pre, 'pre.pt')"
      ],
      "metadata": {
        "id": "KbBvJErQjZaB"
      },
      "execution_count": null,
      "outputs": []
    },
    {
      "cell_type": "markdown",
      "source": [
        "# Summarize the model"
      ],
      "metadata": {
        "id": "MkVfOzqlg3iF"
      }
    },
    {
      "cell_type": "code",
      "source": [
        "def model_summary(model):\n",
        "    \"\"\"summarize the CNN model\"\"\"\n",
        "    torchsummary.summary(model, input_size=(1, 16, 12))"
      ],
      "metadata": {
        "id": "rAMb6wQR0CFC"
      },
      "execution_count": null,
      "outputs": []
    },
    {
      "cell_type": "code",
      "source": [
        "model = CNNnet([512], [40], rbf.gaussian)"
      ],
      "metadata": {
        "id": "7L9PVWBBdJeW"
      },
      "execution_count": null,
      "outputs": []
    },
    {
      "cell_type": "code",
      "source": [
        "device = torch.device('cuda:0')\n",
        "model.to(device) # 训练数据和模型数据类型要统一，并且pytorch-gpu数据类型要变成指定类型\n",
        "model_summary(model)"
      ],
      "metadata": {
        "colab": {
          "base_uri": "https://localhost:8080/"
        },
        "id": "GWy9Xrpwdb2o",
        "outputId": "864c8d2b-e292-4a1c-9396-0ff03a46e617"
      },
      "execution_count": null,
      "outputs": [
        {
          "output_type": "stream",
          "name": "stdout",
          "text": [
            "----------------------------------------------------------------\n",
            "        Layer (type)               Output Shape         Param #\n",
            "================================================================\n",
            "            Conv2d-1           [-1, 64, 16, 12]             640\n",
            "       BatchNorm2d-2           [-1, 64, 16, 12]             128\n",
            "               ELU-3           [-1, 64, 16, 12]               0\n",
            "            Conv2d-4           [-1, 64, 16, 12]          36,928\n",
            "       BatchNorm2d-5           [-1, 64, 16, 12]             128\n",
            "               ELU-6           [-1, 64, 16, 12]               0\n",
            "         MaxPool2d-7             [-1, 64, 8, 6]               0\n",
            "            Conv2d-8            [-1, 128, 8, 6]          73,856\n",
            "       BatchNorm2d-9            [-1, 128, 8, 6]             256\n",
            "              ELU-10            [-1, 128, 8, 6]               0\n",
            "           Conv2d-11            [-1, 128, 8, 6]         147,584\n",
            "      BatchNorm2d-12            [-1, 128, 8, 6]             256\n",
            "              ELU-13            [-1, 128, 8, 6]               0\n",
            "        MaxPool2d-14            [-1, 128, 4, 3]               0\n",
            "           Conv2d-15            [-1, 256, 4, 3]         295,168\n",
            "      BatchNorm2d-16            [-1, 256, 4, 3]             512\n",
            "              ELU-17            [-1, 256, 4, 3]               0\n",
            "           Conv2d-18            [-1, 256, 4, 3]         590,080\n",
            "      BatchNorm2d-19            [-1, 256, 4, 3]             512\n",
            "              ELU-20            [-1, 256, 4, 3]               0\n",
            "           Conv2d-21            [-1, 256, 4, 3]         590,080\n",
            "      BatchNorm2d-22            [-1, 256, 4, 3]             512\n",
            "              ELU-23            [-1, 256, 4, 3]               0\n",
            "           Conv2d-24            [-1, 256, 4, 3]         590,080\n",
            "      BatchNorm2d-25            [-1, 256, 4, 3]             512\n",
            "              ELU-26            [-1, 256, 4, 3]               0\n",
            "        MaxPool2d-27            [-1, 256, 2, 1]               0\n",
            "           Conv2d-28            [-1, 512, 2, 1]       1,180,160\n",
            "      BatchNorm2d-29            [-1, 512, 2, 1]           1,024\n",
            "              ELU-30            [-1, 512, 2, 1]               0\n",
            "           Conv2d-31            [-1, 512, 2, 1]       2,359,808\n",
            "      BatchNorm2d-32            [-1, 512, 2, 1]           1,024\n",
            "              ELU-33            [-1, 512, 2, 1]               0\n",
            "           Conv2d-34            [-1, 512, 2, 1]       2,359,808\n",
            "      BatchNorm2d-35            [-1, 512, 2, 1]           1,024\n",
            "              ELU-36            [-1, 512, 2, 1]               0\n",
            "           Conv2d-37            [-1, 512, 2, 1]       2,359,808\n",
            "      BatchNorm2d-38            [-1, 512, 2, 1]           1,024\n",
            "              ELU-39            [-1, 512, 2, 1]               0\n",
            "        AvgPool2d-40            [-1, 512, 1, 1]               0\n",
            "           Linear-41                  [-1, 576]         295,488\n",
            "================================================================\n",
            "Total params: 10,886,400\n",
            "Trainable params: 10,886,400\n",
            "Non-trainable params: 0\n",
            "----------------------------------------------------------------\n",
            "Input size (MB): 0.00\n",
            "Forward/backward pass size (MB): 1.27\n",
            "Params size (MB): 41.53\n",
            "Estimated Total Size (MB): 42.80\n",
            "----------------------------------------------------------------\n"
          ]
        }
      ]
    },
    {
      "cell_type": "markdown",
      "source": [
        "# draw loss after stop"
      ],
      "metadata": {
        "id": "rAGcXHFiisP-"
      }
    },
    {
      "cell_type": "code",
      "source": [
        "x = np.arange(epochs)\n",
        "# y = np.array(iter_loss)\n",
        "y = np.array(test_iter_loss)\n",
        "plt.plot(x[49:100], y[49: 100])\n",
        "plt.title('pic')\n",
        "plt.xlabel('epoch')\n",
        "plt.ylabel('loss')\n",
        "plt.savefig(f'/content/drive/MyDrive/Colab Notebooks/EIT/EITDeepLearning/lossfg/test_loss_{learning_rt}_{opt_type}.png',dpi=600, bbox_inches='tight')\n",
        "plt.show()\n",
        "\n"
      ],
      "metadata": {
        "colab": {
          "base_uri": "https://localhost:8080/",
          "height": 295
        },
        "id": "DoAGnqwbco-a",
        "outputId": "8a490098-4093-4aac-c402-25640ecdd57f"
      },
      "execution_count": null,
      "outputs": [
        {
          "output_type": "display_data",
          "data": {
            "text/plain": [
              "<Figure size 432x288 with 1 Axes>"
            ],
            "image/png": "[encoded data removed]"
          },
          "metadata": {
            "needs_background": "light"
          }
        }
      ]
    },
    {
      "cell_type": "code",
      "source": [],
      "metadata": {
        "id": "-ji1C8gyXlAI"
      },
      "execution_count": null,
      "outputs": []
    },
    {
      "cell_type": "markdown",
      "source": [
        "## no use"
      ],
      "metadata": {
        "id": "na4wjQvVXlZn"
      }
    },
    {
      "cell_type": "code",
      "source": [
        "np.save(f'/content/drive/MyDrive/Colab Notebooks/EIT/EITDeepLearning/loss/iter_loss_{learning_rt}_{opt_type}.npy', iter_loss)\n",
        "np.save(f'/content/drive/MyDrive/Colab Notebooks/EIT/EITDeepLearning/loss/batch_loss_{learning_rt}_{opt_type}.npy', batch_loss)\n",
        "np.save(f'/content/drive/MyDrive/Colab Notebooks/EIT/EITDeepLearning/loss/test_loss_{learning_rt}_{opt_type}.npy', test_loss)\n"
      ],
      "metadata": {
        "id": "aWBrqHWQS6aj"
      },
      "execution_count": null,
      "outputs": []
    },
    {
      "cell_type": "code",
      "source": [],
      "metadata": {
        "id": "vxD4IGwhc1kp"
      },
      "execution_count": null,
      "outputs": []
    },
    {
      "cell_type": "code",
      "source": [],
      "metadata": {
        "id": "--L5EvJGeaHI"
      },
      "execution_count": null,
      "outputs": []
    },
    {
      "cell_type": "code",
      "source": [],
      "metadata": {
        "id": "0wVIlVsVeW-m"
      },
      "execution_count": null,
      "outputs": []
    },
    {
      "cell_type": "markdown",
      "source": [
        "## no use"
      ],
      "metadata": {
        "id": "_3V9dE8T4bL6"
      }
    },
    {
      "cell_type": "code",
      "source": [
        "\"\"\"test\n",
        "\"\"\"\n",
        "layer_widths = [512] # 神经元数量\n",
        "layer_centres = [40]\n",
        "basis_func = rbf.gaussian # 初始偏置\n",
        "\n",
        "model = CNNnet(layer_widths, layer_centres, basis_func) # Model initialized\n",
        "model = model.float() # parameters to float.\n",
        "device = torch.device('cuda:0')\n",
        "model.to(device) # 训练数据和模型数据类型要统一，并且pytorch-gpu数据类型要变成指定类型"
      ],
      "metadata": {
        "id": "w5zJJv044aeG"
      },
      "execution_count": null,
      "outputs": []
    }
  ]
}